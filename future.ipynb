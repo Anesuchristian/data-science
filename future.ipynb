{
 "cells": [
  {
   "cell_type": "markdown",
   "id": "70b1d908",
   "metadata": {},
   "source": [
    "# Advanced Feature Engineering for Student Explanations\n",
    "\n",
    "This notebook performs comprehensive feature engineering on student explanation text data, including:\n",
    "- Text statistics features\n",
    "- Mathematical expression features\n",
    "- TF-IDF vectorization\n",
    "- Bag of Words features\n",
    "- Categorical encoding"
   ]
  },
  {
   "cell_type": "markdown",
   "id": "baea472e",
   "metadata": {},
   "source": [
    "## 1. Import Required Libraries"
   ]
  },
  {
   "cell_type": "code",
   "execution_count": null,
   "id": "a0e5779c",
   "metadata": {},
   "outputs": [],
   "source": [
    "import pandas as pd\n",
    "import numpy as np\n",
    "from sklearn.feature_extraction.text import TfidfVectorizer, CountVectorizer\n",
    "from sklearn.preprocessing import LabelEncoder\n",
    "import re\n",
    "import joblib\n",
    "import matplotlib.pyplot as plt\n",
    "import seaborn as sns\n",
    "\n",
    "print(\"Starting advanced feature engineering...\")"
   ]
  },
  {
   "cell_type": "markdown",
   "id": "cc2cecb6",
   "metadata": {},
   "source": [
    "## 2. Load and Explore Dataset"
   ]
  },
  {
   "cell_type": "code",
   "execution_count": null,
   "id": "7c19e6fa",
   "metadata": {},
   "outputs": [],
   "source": [
    "# Load the dataset\n",
    "df = pd.read_csv('cleaned_train.csv')\n",
    "print(f\"Dataset loaded: {df.shape[0]} rows, {df.columns.tolist()}\")\n",
    "\n",
    "# Display basic info about the dataset\n",
    "print(\"\\nDataset Info:\")\n",
    "print(df.info())\n",
    "print(\"\\nFirst few rows:\")\n",
    "df.head()"
   ]
  },
  {
   "cell_type": "markdown",
   "id": "868e9a59",
   "metadata": {},
   "source": [
    "## 3. Prepare Text Data"
   ]
  },
  {
   "cell_type": "code",
   "execution_count": null,
   "id": "d116d3ab",
   "metadata": {},
   "outputs": [],
   "source": [
    "# Handle missing values in the StudentExplanation column\n",
    "text_data = df['StudentExplanation'].fillna('').astype(str).tolist()\n",
    "\n",
    "print(f\"Text data prepared: {len(text_data)} samples\")\n",
    "print(f\"Sample explanation: {text_data[0][:100]}...\")"
   ]
  },
  {
   "cell_type": "markdown",
   "id": "bf5a6208",
   "metadata": {},
   "source": [
    "## 4. Create Text Statistics Features"
   ]
  },
  {
   "cell_type": "code",
   "execution_count": null,
   "id": "54121999",
   "metadata": {},
   "outputs": [],
   "source": [
    "# Basic text statistics features\n",
    "print(\"Creating text statistics features...\")\n",
    "\n",
    "df['text_length'] = df['StudentExplanation'].fillna('').astype(str).str.len()\n",
    "df['word_count'] = df['StudentExplanation'].fillna('').astype(str).str.split().str.len()\n",
    "df['sentence_count'] = df['StudentExplanation'].fillna('').astype(str).str.count('\\.')\n",
    "df['exclamation_count'] = df['StudentExplanation'].fillna('').astype(str).str.count('!')\n",
    "df['question_count'] = df['StudentExplanation'].fillna('').astype(str).str.count('\\?')\n",
    "df['uppercase_count'] = df['StudentExplanation'].fillna('').astype(str).str.count('[A-Z]')\n",
    "df['digit_count'] = df['StudentExplanation'].fillna('').astype(str).str.count('\\d')\n",
    "\n",
    "# Display statistics\n",
    "text_features = ['text_length', 'word_count', 'sentence_count', 'exclamation_count', \n",
    "                'question_count', 'uppercase_count', 'digit_count']\n",
    "print(\"\\nText Statistics Summary:\")\n",
    "df[text_features].describe()"
   ]
  },
  {
   "cell_type": "markdown",
   "id": "3a5e4ba6",
   "metadata": {},
   "source": [
    "## 5. Create Mathematical Expression Features"
   ]
  },
  {
   "cell_type": "code",
   "execution_count": null,
   "id": "4ee9d5bb",
   "metadata": {},
   "outputs": [],
   "source": [
    "# Mathematical expression features\n",
    "print(\"Creating mathematical expression features...\")\n",
    "\n",
    "df['has_fraction'] = df['StudentExplanation'].fillna('').astype(str).str.contains(r'\\d+/\\d+').astype(int)\n",
    "df['has_decimal'] = df['StudentExplanation'].fillna('').astype(str).str.contains(r'\\d+\\.\\d+').astype(int)\n",
    "df['has_percentage'] = df['StudentExplanation'].fillna('').astype(str).str.contains(r'\\d+%').astype(int)\n",
    "df['math_operations'] = df['StudentExplanation'].fillna('').astype(str).str.count(r'[\\+\\-\\*\\/\\=]')\n",
    "\n",
    "# Display mathematical features summary\n",
    "math_features = ['has_fraction', 'has_decimal', 'has_percentage', 'math_operations']\n",
    "print(\"\\nMathematical Features Summary:\")\n",
    "for feature in math_features:\n",
    "    print(f\"{feature}: {df[feature].sum()} samples have this feature\")"
   ]
  },
  {
   "cell_type": "markdown",
   "id": "43c5e41b",
   "metadata": {},
   "source": [
    "## 6. Encode Categorical Features"
   ]
  },
  {
   "cell_type": "code",
   "execution_count": null,
   "id": "6ba45eb5",
   "metadata": {},
   "outputs": [],
   "source": [
    "# Encode categorical features\n",
    "print(\"Encoding categorical features...\")\n",
    "\n",
    "le_category = LabelEncoder()\n",
    "df['Category_encoded'] = le_category.fit_transform(df['Category'])\n",
    "\n",
    "print(\"\\nCategory encoding mapping:\")\n",
    "for i, category in enumerate(le_category.classes_):\n",
    "    print(f\"{category}: {i}\")"
   ]
  },
  {
   "cell_type": "markdown",
   "id": "19a87713",
   "metadata": {},
   "source": [
    "## 7. Create TF-IDF Features"
   ]
  },
  {
   "cell_type": "code",
   "execution_count": null,
   "id": "b8deddfe",
   "metadata": {},
   "outputs": [],
   "source": [
    "# Initialize the TF-IDF Vectorizer with additional parameters\n",
    "print(\"Creating TF-IDF features...\")\n",
    "\n",
    "vectorizer = TfidfVectorizer(\n",
    "    lowercase=True,\n",
    "    stop_words='english',\n",
    "    max_features=500,\n",
    "    ngram_range=(1, 2),\n",
    "    min_df=2,  # Ignore terms that appear in less than 2 documents\n",
    "    max_df=0.95  # Ignore terms that appear in more than 95% of documents\n",
    ")\n",
    "\n",
    "# Fit and transform the text data\n",
    "tfidf_matrix = vectorizer.fit_transform(text_data)\n",
    "\n",
    "# Convert to DataFrame\n",
    "tfidf_df = pd.DataFrame(\n",
    "    tfidf_matrix.toarray(),\n",
    "    columns=[f'tfidf_{col}' for col in vectorizer.get_feature_names_out()]\n",
    ")\n",
    "\n",
    "print(f\"TF-IDF features created: {tfidf_df.shape[1]} features\")\n",
    "print(f\"TF-IDF matrix shape: {tfidf_matrix.shape}\")"
   ]
  },
  {
   "cell_type": "markdown",
   "id": "3239a092",
   "metadata": {},
   "source": [
    "## 8. Create Bag of Words Features"
   ]
  },
  {
   "cell_type": "code",
   "execution_count": null,
   "id": "f3c0eecb",
   "metadata": {},
   "outputs": [],
   "source": [
    "# Create bag of words features for comparison\n",
    "print(\"Creating Bag of Words features...\")\n",
    "\n",
    "count_vectorizer = CountVectorizer(\n",
    "    lowercase=True,\n",
    "    stop_words='english',\n",
    "    max_features=200,\n",
    "    ngram_range=(1, 2),\n",
    "    min_df=2,\n",
    "    max_df=0.95\n",
    ")\n",
    "\n",
    "bow_matrix = count_vectorizer.fit_transform(text_data)\n",
    "bow_df = pd.DataFrame(\n",
    "    bow_matrix.toarray(),\n",
    "    columns=[f'bow_{col}' for col in count_vectorizer.get_feature_names_out()]\n",
    ")\n",
    "\n",
    "print(f\"Bag of Words features created: {bow_df.shape[1]} features\")\n",
    "print(f\"BoW matrix shape: {bow_matrix.shape}\")"
   ]
  },
  {
   "cell_type": "markdown",
   "id": "283985b8",
   "metadata": {},
   "source": [
    "## 9. Combine All Features"
   ]
  },
  {
   "cell_type": "code",
   "execution_count": null,
   "id": "0e2d2968",
   "metadata": {},
   "outputs": [],
   "source": [
    "# Combine all features\n",
    "print(\"Combining all features...\")\n",
    "\n",
    "feature_columns = ['text_length', 'word_count', 'sentence_count', 'exclamation_count', \n",
    "                  'question_count', 'uppercase_count', 'digit_count', 'has_fraction',\n",
    "                  'has_decimal', 'has_percentage', 'math_operations', 'Category_encoded']\n",
    "\n",
    "# Create the combined dataset\n",
    "combined_df = pd.concat([\n",
    "    df.reset_index(drop=True),\n",
    "    tfidf_df.reset_index(drop=True),\n",
    "    bow_df.reset_index(drop=True)\n",
    "], axis=1)\n",
    "\n",
    "print(f\"Combined dataset shape: {combined_df.shape}\")\n",
    "print(f\"Feature columns: {len(feature_columns)} engineered features\")"
   ]
  },
  {
   "cell_type": "markdown",
   "id": "3c84b4a5",
   "metadata": {},
   "source": [
    "## 10. Save Results and Models"
   ]
  },
  {
   "cell_type": "code",
   "execution_count": null,
   "id": "e96bed29",
   "metadata": {},
   "outputs": [],
   "source": [
    "# Save the results\n",
    "print(\"Saving results...\")\n",
    "\n",
    "tfidf_df.to_csv('tfidf_vectors.csv', index=False)\n",
    "bow_df.to_csv('bow_vectors.csv', index=False)\n",
    "combined_df.to_csv('combined_data_with_tfidf.csv', index=False)\n",
    "\n",
    "# Save feature importance information\n",
    "feature_info = pd.DataFrame({\n",
    "    'feature_name': feature_columns,\n",
    "    'feature_type': ['text_stat'] * 7 + ['math_feature'] * 4 + ['categorical']\n",
    "})\n",
    "feature_info.to_csv('feature_info.csv', index=False)\n",
    "\n",
    "# Save the vectorizers\n",
    "joblib.dump(vectorizer, 'tfidf_vectorizer.joblib')\n",
    "joblib.dump(count_vectorizer, 'bow_vectorizer.joblib')\n",
    "joblib.dump(le_category, 'category_encoder.joblib')\n",
    "\n",
    "print(\"All files saved successfully!\")"
   ]
  },
  {
   "cell_type": "markdown",
   "id": "52eb76df",
   "metadata": {},
   "source": [
    "## 11. Feature Engineering Summary"
   ]
  },
  {
   "cell_type": "code",
   "execution_count": null,
   "id": "33f33a59",
   "metadata": {},
   "outputs": [],
   "source": [
    "# Print summary statistics\n",
    "print(\"\\n=== Feature Engineering Summary ===\")\n",
    "print(f\"Original features: {len(df.columns)}\")\n",
    "print(f\"TF-IDF features: {tfidf_df.shape[1]}\")\n",
    "print(f\"Bag of Words features: {bow_df.shape[1]}\")\n",
    "print(f\"Total features in combined dataset: {combined_df.shape[1]}\")\n",
    "print(f\"Text statistics features: {len([col for col in feature_columns if 'text_' in col or 'word_' in col or 'sentence_' in col or 'exclamation_' in col or 'question_' in col or 'uppercase_' in col or 'digit_' in col])}\")\n",
    "print(f\"Mathematical features: {len([col for col in feature_columns if 'has_' in col or 'math_' in col])}\")\n",
    "\n",
    "print(\"\\nFiles created:\")\n",
    "print(\"- tfidf_vectors.csv (TF-IDF features)\")\n",
    "print(\"- bow_vectors.csv (Bag of Words features)\")\n",
    "print(\"- combined_data_with_tfidf.csv (All features combined)\")\n",
    "print(\"- feature_info.csv (Feature metadata)\")\n",
    "print(\"- tfidf_vectorizer.joblib (TF-IDF model)\")\n",
    "print(\"- bow_vectorizer.joblib (Bag of Words model)\")\n",
    "print(\"- category_encoder.joblib (Category encoder)\")\n",
    "\n",
    "print(\"\\nFeature engineering completed successfully!\")"
   ]
  },
  {
   "cell_type": "markdown",
   "id": "83d8af7d",
   "metadata": {},
   "source": [
    "## 12. Data Visualization (Optional)"
   ]
  },
  {
   "cell_type": "code",
   "execution_count": null,
   "id": "3f20ce80",
   "metadata": {},
   "outputs": [],
   "source": [
    "# Optional: Create some visualizations\n",
    "plt.figure(figsize=(15, 10))\n",
    "\n",
    "# Plot text statistics\n",
    "plt.subplot(2, 3, 1)\n",
    "plt.hist(df['text_length'], bins=50, alpha=0.7)\n",
    "plt.title('Distribution of Text Length')\n",
    "plt.xlabel('Text Length')\n",
    "plt.ylabel('Frequency')\n",
    "\n",
    "plt.subplot(2, 3, 2)\n",
    "plt.hist(df['word_count'], bins=50, alpha=0.7)\n",
    "plt.title('Distribution of Word Count')\n",
    "plt.xlabel('Word Count')\n",
    "plt.ylabel('Frequency')\n",
    "\n",
    "plt.subplot(2, 3, 3)\n",
    "category_counts = df['Category'].value_counts()\n",
    "plt.pie(category_counts.values, labels=category_counts.index, autopct='%1.1f%%')\n",
    "plt.title('Distribution of Categories')\n",
    "\n",
    "plt.subplot(2, 3, 4)\n",
    "math_feature_sums = df[['has_fraction', 'has_decimal', 'has_percentage']].sum()\n",
    "plt.bar(math_feature_sums.index, math_feature_sums.values)\n",
    "plt.title('Mathematical Features Frequency')\n",
    "plt.xticks(rotation=45)\n",
    "\n",
    "plt.subplot(2, 3, 5)\n",
    "plt.scatter(df['text_length'], df['word_count'], alpha=0.5)\n",
    "plt.title('Text Length vs Word Count')\n",
    "plt.xlabel('Text Length')\n",
    "plt.ylabel('Word Count')\n",
    "\n",
    "plt.tight_layout()\n",
    "plt.show()\n",
    "\n",
    "print(\"Visualizations completed!\")"
   ]
  }
 ],
 "metadata": {
  "language_info": {
   "name": "python"
  }
 },
 "nbformat": 4,
 "nbformat_minor": 5
}
